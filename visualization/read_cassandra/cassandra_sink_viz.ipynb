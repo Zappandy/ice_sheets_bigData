{
 "cells": [
  {
   "cell_type": "code",
   "execution_count": 3,
   "id": "49613abe",
   "metadata": {},
   "outputs": [
    {
     "name": "stdout",
     "output_type": "stream",
     "text": [
      "Collecting cassandra-driver\n",
      "  Downloading cassandra_driver-3.25.0-cp38-cp38-manylinux1_x86_64.whl (3.6 MB)\n",
      "\u001b[K     |████████████████████████████████| 3.6 MB 70 kB/s  eta 0:00:01\n",
      "\u001b[?25hRequirement already satisfied: six>=1.9 in /mnt/c/Users/nanoa/Documents/PythonProjects/faroese/lib/python3.8/site-packages (from cassandra-driver) (1.16.0)\n",
      "Collecting geomet<0.3,>=0.1\n",
      "  Downloading geomet-0.2.1.post1-py3-none-any.whl (18 kB)\n",
      "Requirement already satisfied: click in /mnt/c/Users/nanoa/Documents/PythonProjects/faroese/lib/python3.8/site-packages (from geomet<0.3,>=0.1->cassandra-driver) (8.0.4)\n",
      "Installing collected packages: geomet, cassandra-driver\n",
      "Successfully installed cassandra-driver-3.25.0 geomet-0.2.1.post1\n"
     ]
    }
   ],
   "source": [
    "from cassandra.cluster import Cluster\n",
    "import matplotlib.pyplot as plt\n",
    "import seaborn as sns\n",
    "import pandas as pd\n",
    "import plotly.graph_objects as go\n",
    "import numpy as np"
   ]
  },
  {
   "cell_type": "code",
   "execution_count": null,
   "id": "7856f831",
   "metadata": {},
   "outputs": [],
   "source": [
    "#cluster = Cluster([\"cassandra-1\"], control_connection_timeout=10, port=9042)\n",
    "cluster = Cluster(['127.0.0.1'], control_connection_timeout=10, port=9042)\n",
    "session = cluster.connect()\n",
    "session.set_keyspace(\"icesheet_keyspace\")\n",
    "\n",
    "def df_generator(cols, rows):\n",
    "    return pd.DataFrame(rows, columns=cols)"
   ]
  },
  {
   "cell_type": "code",
   "execution_count": 1,
   "id": "f67d216f",
   "metadata": {},
   "outputs": [
    {
     "name": "stdout",
     "output_type": "stream",
     "text": [
      "Requirement already satisfied: seaborn in /mnt/c/Users/nanoa/Documents/PythonProjects/faroese/lib/python3.8/site-packages (0.11.2)\n",
      "Requirement already satisfied: pandas>=0.23 in /mnt/c/Users/nanoa/Documents/PythonProjects/faroese/lib/python3.8/site-packages (from seaborn) (1.4.1)\n",
      "Requirement already satisfied: scipy>=1.0 in /mnt/c/Users/nanoa/Documents/PythonProjects/faroese/lib/python3.8/site-packages (from seaborn) (1.8.0)\n",
      "Requirement already satisfied: matplotlib>=2.2 in /mnt/c/Users/nanoa/Documents/PythonProjects/faroese/lib/python3.8/site-packages (from seaborn) (3.5.1)\n",
      "Requirement already satisfied: numpy>=1.15 in /mnt/c/Users/nanoa/Documents/PythonProjects/faroese/lib/python3.8/site-packages (from seaborn) (1.22.3)\n",
      "Requirement already satisfied: python-dateutil>=2.8.1 in /mnt/c/Users/nanoa/Documents/PythonProjects/faroese/lib/python3.8/site-packages (from pandas>=0.23->seaborn) (2.8.2)\n",
      "Requirement already satisfied: pytz>=2020.1 in /mnt/c/Users/nanoa/Documents/PythonProjects/faroese/lib/python3.8/site-packages (from pandas>=0.23->seaborn) (2021.3)\n",
      "Requirement already satisfied: packaging>=20.0 in /mnt/c/Users/nanoa/Documents/PythonProjects/faroese/lib/python3.8/site-packages (from matplotlib>=2.2->seaborn) (21.3)\n",
      "Requirement already satisfied: pyparsing>=2.2.1 in /mnt/c/Users/nanoa/Documents/PythonProjects/faroese/lib/python3.8/site-packages (from matplotlib>=2.2->seaborn) (3.0.7)\n",
      "Requirement already satisfied: cycler>=0.10 in /mnt/c/Users/nanoa/Documents/PythonProjects/faroese/lib/python3.8/site-packages (from matplotlib>=2.2->seaborn) (0.11.0)\n",
      "Requirement already satisfied: kiwisolver>=1.0.1 in /mnt/c/Users/nanoa/Documents/PythonProjects/faroese/lib/python3.8/site-packages (from matplotlib>=2.2->seaborn) (1.4.0)\n",
      "Requirement already satisfied: fonttools>=4.22.0 in /mnt/c/Users/nanoa/Documents/PythonProjects/faroese/lib/python3.8/site-packages (from matplotlib>=2.2->seaborn) (4.30.0)\n",
      "Requirement already satisfied: pillow>=6.2.0 in /mnt/c/Users/nanoa/Documents/PythonProjects/faroese/lib/python3.8/site-packages (from matplotlib>=2.2->seaborn) (9.0.1)\n",
      "Requirement already satisfied: six>=1.5 in /mnt/c/Users/nanoa/Documents/PythonProjects/faroese/lib/python3.8/site-packages (from python-dateutil>=2.8.1->pandas>=0.23->seaborn) (1.16.0)\n"
     ]
    }
   ],
   "source": [
    "session.row_factory = df_generator\n",
    "session.default_fetch_size = None\n",
    "\n",
    "ice_sheetrows = session.execute('SELECT * FROM icesheetreport;')\n",
    "ice_df = ice_sheetrows._current_rows\n",
    "caribou_sheetrows = session.execute('SELECT * FROM cariboureport;')\n",
    "caribou_df = caribou_sheetrows._current_rows\n",
    "oceanheat_sheetrows = session.execute('SELECT * FROM oceanheatreport;')\n",
    "oceanheat_df = oceanheat_sheetrows._current_rows\n",
    "globaltemp_sheetrows = session.execute('SELECT * FROM globaltempreport;')\n",
    "globaltemp_df = globaltemp_sheetrows._current_rows"
   ]
  },
  {
   "cell_type": "code",
   "execution_count": null,
   "id": "06f1f087",
   "metadata": {},
   "outputs": [],
   "source": [
    "mask_ice_df = ice_df[\"Hemisphere\"] == 'S'\n",
    "viz_ice_df = ice_df[mask_ice_df]\n",
    "lis_year = viz_ice_df[\"Year\"]\n",
    "lis_extent = viz_ice_df[\"Extent\"]\n",
    "plt.scatter(lis_year, lis_extent)\n",
    "plt.show()"
   ]
  },
  {
   "cell_type": "code",
   "execution_count": null,
   "id": "946fc206",
   "metadata": {},
   "outputs": [],
   "source": [
    "year_globaltemp = globaltemp_df['year']\n",
    "lo_smooth = globaltemp_df['lowess_smoothing']\n",
    "fig_globaltemp = go.Figure(data=go.Scatter(x=year_globaltemp, y=lo_smooth, mode='lines+markers'))\n",
    "\n",
    "fig_globaltemp.show()"
   ]
  }
 ],
 "metadata": {
  "kernelspec": {
   "display_name": "Python 3 (ipykernel)",
   "language": "python",
   "name": "python3"
  },
  "language_info": {
   "codemirror_mode": {
    "name": "ipython",
    "version": 3
   },
   "file_extension": ".py",
   "mimetype": "text/x-python",
   "name": "python",
   "nbconvert_exporter": "python",
   "pygments_lexer": "ipython3",
   "version": "3.8.10"
  }
 },
 "nbformat": 4,
 "nbformat_minor": 5
}
