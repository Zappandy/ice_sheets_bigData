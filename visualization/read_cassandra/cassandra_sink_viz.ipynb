{
 "cells": [
  {
   "cell_type": "code",
   "execution_count": 2,
   "id": "98245f45",
   "metadata": {},
   "outputs": [
    {
     "ename": "ModuleNotFoundError",
     "evalue": "No module named 'cassandra'",
     "output_type": "error",
     "traceback": [
      "\u001b[0;31m---------------------------------------------------------------------------\u001b[0m",
      "\u001b[0;31mModuleNotFoundError\u001b[0m                       Traceback (most recent call last)",
      "Input \u001b[0;32mIn [2]\u001b[0m, in \u001b[0;36m<cell line: 1>\u001b[0;34m()\u001b[0m\n\u001b[0;32m----> 1\u001b[0m \u001b[38;5;28;01mfrom\u001b[39;00m \u001b[38;5;21;01mcassandra\u001b[39;00m\u001b[38;5;21;01m.\u001b[39;00m\u001b[38;5;21;01mcluster\u001b[39;00m \u001b[38;5;28;01mimport\u001b[39;00m Cluster\n\u001b[1;32m      2\u001b[0m \u001b[38;5;28;01mimport\u001b[39;00m \u001b[38;5;21;01mmatplotlib\u001b[39;00m\u001b[38;5;21;01m.\u001b[39;00m\u001b[38;5;21;01mpyplot\u001b[39;00m \u001b[38;5;28;01mas\u001b[39;00m \u001b[38;5;21;01mplt\u001b[39;00m\n\u001b[1;32m      3\u001b[0m \u001b[38;5;28;01mimport\u001b[39;00m \u001b[38;5;21;01mseaborn\u001b[39;00m \u001b[38;5;28;01mas\u001b[39;00m \u001b[38;5;21;01msns\u001b[39;00m\n",
      "\u001b[0;31mModuleNotFoundError\u001b[0m: No module named 'cassandra'"
     ]
    }
   ],
   "source": [
    "from cassandra.cluster import Cluster\n",
    "import matplotlib.pyplot as plt\n",
    "import seaborn as sns\n",
    "import pandas as pd"
   ]
  },
  {
   "cell_type": "code",
   "execution_count": null,
   "id": "59bfc7c6",
   "metadata": {},
   "outputs": [],
   "source": [
    "cluster = Cluster([\"cassandra-1\"])\n",
    "session = cluster.connect()\n",
    "session.set_keyspace(\"icesheet_keyspace\")\n",
    "\n",
    "def df_generator(cols, rows):\n",
    "    return pd.DataFrame(rows, columns=cols)"
   ]
  },
  {
   "cell_type": "code",
   "execution_count": 1,
   "id": "4b3002c4",
   "metadata": {},
   "outputs": [
    {
     "name": "stdout",
     "output_type": "stream",
     "text": [
      "Requirement already satisfied: seaborn in /mnt/c/Users/nanoa/Documents/PythonProjects/faroese/lib/python3.8/site-packages (0.11.2)\n",
      "Requirement already satisfied: pandas>=0.23 in /mnt/c/Users/nanoa/Documents/PythonProjects/faroese/lib/python3.8/site-packages (from seaborn) (1.4.1)\n",
      "Requirement already satisfied: scipy>=1.0 in /mnt/c/Users/nanoa/Documents/PythonProjects/faroese/lib/python3.8/site-packages (from seaborn) (1.8.0)\n",
      "Requirement already satisfied: matplotlib>=2.2 in /mnt/c/Users/nanoa/Documents/PythonProjects/faroese/lib/python3.8/site-packages (from seaborn) (3.5.1)\n",
      "Requirement already satisfied: numpy>=1.15 in /mnt/c/Users/nanoa/Documents/PythonProjects/faroese/lib/python3.8/site-packages (from seaborn) (1.22.3)\n",
      "Requirement already satisfied: python-dateutil>=2.8.1 in /mnt/c/Users/nanoa/Documents/PythonProjects/faroese/lib/python3.8/site-packages (from pandas>=0.23->seaborn) (2.8.2)\n",
      "Requirement already satisfied: pytz>=2020.1 in /mnt/c/Users/nanoa/Documents/PythonProjects/faroese/lib/python3.8/site-packages (from pandas>=0.23->seaborn) (2021.3)\n",
      "Requirement already satisfied: packaging>=20.0 in /mnt/c/Users/nanoa/Documents/PythonProjects/faroese/lib/python3.8/site-packages (from matplotlib>=2.2->seaborn) (21.3)\n",
      "Requirement already satisfied: pyparsing>=2.2.1 in /mnt/c/Users/nanoa/Documents/PythonProjects/faroese/lib/python3.8/site-packages (from matplotlib>=2.2->seaborn) (3.0.7)\n",
      "Requirement already satisfied: cycler>=0.10 in /mnt/c/Users/nanoa/Documents/PythonProjects/faroese/lib/python3.8/site-packages (from matplotlib>=2.2->seaborn) (0.11.0)\n",
      "Requirement already satisfied: kiwisolver>=1.0.1 in /mnt/c/Users/nanoa/Documents/PythonProjects/faroese/lib/python3.8/site-packages (from matplotlib>=2.2->seaborn) (1.4.0)\n",
      "Requirement already satisfied: fonttools>=4.22.0 in /mnt/c/Users/nanoa/Documents/PythonProjects/faroese/lib/python3.8/site-packages (from matplotlib>=2.2->seaborn) (4.30.0)\n",
      "Requirement already satisfied: pillow>=6.2.0 in /mnt/c/Users/nanoa/Documents/PythonProjects/faroese/lib/python3.8/site-packages (from matplotlib>=2.2->seaborn) (9.0.1)\n",
      "Requirement already satisfied: six>=1.5 in /mnt/c/Users/nanoa/Documents/PythonProjects/faroese/lib/python3.8/site-packages (from python-dateutil>=2.8.1->pandas>=0.23->seaborn) (1.16.0)\n"
     ]
    }
   ],
   "source": [
    "session.row_factory = df_generator\n",
    "session.default_fetch_size = None\n",
    "\n",
    "ice_sheetrows = session.execute('SELECT * FROM icesheetreport;')\n",
    "ice_df = ice_sheetrows._current_rows\n",
    "caribou_sheetrows = session.execute('SELECT * FROM cariboureport;')\n",
    "caribou_df = caribou_sheetrows._current_rows\n",
    "oceanheat_sheetrows = session.execute('SELECT * FROM oceanheatreport;')\n",
    "oceanheat_df = oceanheat_sheetrows._current_rows\n",
    "globaltemp_sheetrows = session.execute('SELECT * FROM globaltempreport;')\n",
    "globaltemp_df = globaltemp_sheetrows._current_rows"
   ]
  },
  {
   "cell_type": "code",
   "execution_count": null,
   "id": "5586732d",
   "metadata": {},
   "outputs": [],
   "source": [
    "mask_ice_df = ice_df[\"Hemisphere\"] == 'S'\n",
    "viz_ice_df = ice_df[mask_ice_df]\n",
    "lis_year = viz_ice_df[\"Year\"]\n",
    "lis_extent = viz_ice_df[\"Extent\"]\n",
    "#mask_ice_df[\"Mony\n",
    "plt.scatter(lis_year, lis_extent)\n",
    "plt.show()"
   ]
  }
 ],
 "metadata": {
  "kernelspec": {
   "display_name": "Python 3 (ipykernel)",
   "language": "python",
   "name": "python3"
  },
  "language_info": {
   "codemirror_mode": {
    "name": "ipython",
    "version": 3
   },
   "file_extension": ".py",
   "mimetype": "text/x-python",
   "name": "python",
   "nbconvert_exporter": "python",
   "pygments_lexer": "ipython3",
   "version": "3.8.10"
  }
 },
 "nbformat": 4,
 "nbformat_minor": 5
}
