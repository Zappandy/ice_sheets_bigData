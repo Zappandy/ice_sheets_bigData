{
 "cells": [
  {
   "cell_type": "code",
   "execution_count": 1,
   "id": "49613abe",
   "metadata": {},
   "outputs": [],
   "source": [
    "from cassandra.cluster import Cluster\n",
    "import matplotlib.pyplot as plt\n",
    "import seaborn as sns\n",
    "import pandas as pd\n",
    "#import plotly.graph_objects as go\n",
    "import numpy as np"
   ]
  },
  {
   "cell_type": "code",
   "execution_count": 2,
   "id": "7856f831",
   "metadata": {},
   "outputs": [],
   "source": [
    "#cluster = Cluster([\"cassandra-1\"], control_connection_timeout=10, port=9042)\n",
    "cluster = Cluster(['127.0.0.4'], control_connection_timeout=10, port=9042)\n",
    "session = cluster.connect()\n",
    "session.set_keyspace(\"icesheet_keyspace\")\n",
    "\n",
    "\n",
    "def df_generator(cols, rows):\n",
    "    return pd.DataFrame(rows, columns=cols)"
   ]
  },
  {
   "cell_type": "code",
   "execution_count": null,
   "id": "ecbba4fe",
   "metadata": {},
   "outputs": [],
   "source": []
  },
  {
   "cell_type": "code",
   "execution_count": 3,
   "id": "f67d216f",
   "metadata": {},
   "outputs": [],
   "source": [
    "session.row_factory = df_generator\n",
    "session.default_fetch_size = None\n",
    "\n",
    "ice_sheetrows = session.execute('SELECT * FROM icesheetreport;')\n",
    "ice_df = ice_sheetrows._current_rows\n",
    "caribou_sheetrows = session.execute('SELECT * FROM cariboureport;')\n",
    "caribou_df = caribou_sheetrows._current_rows\n",
    "oceanheat_sheetrows = session.execute('SELECT * FROM oceanheatreport;')\n",
    "oceanheat_df = oceanheat_sheetrows._current_rows\n",
    "globaltemp_sheetrows = session.execute('SELECT * FROM globaltempreport;')\n",
    "globaltemp_df = globaltemp_sheetrows._current_rows"
   ]
  },
  {
   "cell_type": "code",
   "execution_count": 6,
   "id": "b4ec276b",
   "metadata": {},
   "outputs": [
    {
     "data": {
      "text/html": [
       "<div>\n",
       "<style scoped>\n",
       "    .dataframe tbody tr th:only-of-type {\n",
       "        vertical-align: middle;\n",
       "    }\n",
       "\n",
       "    .dataframe tbody tr th {\n",
       "        vertical-align: top;\n",
       "    }\n",
       "\n",
       "    .dataframe thead th {\n",
       "        text-align: right;\n",
       "    }\n",
       "</style>\n",
       "<table border=\"1\" class=\"dataframe\">\n",
       "  <thead>\n",
       "    <tr style=\"text-align: right;\">\n",
       "      <th></th>\n",
       "      <th>rec_id</th>\n",
       "      <th>Year</th>\n",
       "      <th>location</th>\n",
       "      <th>population_count</th>\n",
       "    </tr>\n",
       "  </thead>\n",
       "  <tbody>\n",
       "  </tbody>\n",
       "</table>\n",
       "</div>"
      ],
      "text/plain": [
       "Empty DataFrame\n",
       "Columns: [rec_id, Year, location, population_count]\n",
       "Index: []"
      ]
     },
     "execution_count": 6,
     "metadata": {},
     "output_type": "execute_result"
    }
   ],
   "source": [
    "caribou_df"
   ]
  },
  {
   "cell_type": "code",
   "execution_count": null,
   "id": "7955616c",
   "metadata": {},
   "outputs": [],
   "source": [
    "caribou_df"
   ]
  },
  {
   "cell_type": "code",
   "execution_count": null,
   "id": "06f1f087",
   "metadata": {},
   "outputs": [],
   "source": [
    "mask_ice_df = ice_df[\"Hemisphere\"] == 'S'\n",
    "viz_ice_df = ice_df[mask_ice_df]\n",
    "lis_year = viz_ice_df[\"Year\"]\n",
    "lis_year[]\n",
    "lis_extent = viz_ice_df[\"Extent\"]\n",
    "print(len(lis_year))\n",
    "print(len(lis_extent))\n",
    "plt.rcParams[\"figure.figsize\"] = (18,15.5)\n",
    "#plt.plot(lis_year, lis_extent)\n",
    "plt.scatter(lis_year, lis_extent)\n",
    "plt.show()"
   ]
  },
  {
   "cell_type": "code",
   "execution_count": null,
   "id": "946fc206",
   "metadata": {},
   "outputs": [],
   "source": [
    "year_globaltemp = globaltemp_df['year']\n",
    "lo_smooth = globaltemp_df['lowess_smoothing']\n",
    "fig_globaltemp = go.Figure(data=go.Scatter(x=year_globaltemp, y=lo_smooth, mode='lines+markers'))\n",
    "\n",
    "fig_globaltemp.show()"
   ]
  }
 ],
 "metadata": {
  "kernelspec": {
   "display_name": "Python 3 (ipykernel)",
   "language": "python",
   "name": "python3"
  },
  "language_info": {
   "codemirror_mode": {
    "name": "ipython",
    "version": 3
   },
   "file_extension": ".py",
   "mimetype": "text/x-python",
   "name": "python",
   "nbconvert_exporter": "python",
   "pygments_lexer": "ipython3",
   "version": "3.8.10"
  }
 },
 "nbformat": 4,
 "nbformat_minor": 5
}
